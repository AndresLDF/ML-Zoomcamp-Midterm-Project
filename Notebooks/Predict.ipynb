{
  "nbformat": 4,
  "nbformat_minor": 0,
  "metadata": {
    "colab": {
      "provenance": []
    },
    "kernelspec": {
      "name": "python3",
      "display_name": "Python 3"
    },
    "language_info": {
      "name": "python"
    }
  },
  "cells": [
    {
      "cell_type": "code",
      "execution_count": 20,
      "metadata": {
        "id": "3FyRwtydVXSt"
      },
      "outputs": [],
      "source": [
        "import requests\n",
        "import numpy as np\n",
        "import pandas as pd\n",
        "from io import StringIO\n",
        "from sklearn.model_selection import train_test_split\n",
        "from sklearn.metrics import mean_squared_error\n",
        "import xgboost as xgb\n",
        "import pickle\n"
      ]
    },
    {
      "cell_type": "code",
      "source": [
        "url = \"https://github.com/AndresLDF/ML-Zoomcamp-Midterm-Project/raw/main/DataSet/Concrete_Data_Yeh.csv\""
      ],
      "metadata": {
        "id": "-7RpJarAVhQN"
      },
      "execution_count": 21,
      "outputs": []
    },
    {
      "cell_type": "code",
      "source": [
        "response = requests.get(url)"
      ],
      "metadata": {
        "id": "xpmG3SiN3rtK"
      },
      "execution_count": 22,
      "outputs": []
    },
    {
      "cell_type": "code",
      "source": [
        "if response.status_code==200:\n",
        "  file = StringIO(response.text)\n",
        "  df = pd.read_csv(file)\n"
      ],
      "metadata": {
        "id": "x3wcgdSx34_V"
      },
      "execution_count": 23,
      "outputs": []
    },
    {
      "cell_type": "code",
      "source": [
        "#Set all the columns labels to lower case\n",
        "df.columns = df.columns.str.lower()"
      ],
      "metadata": {
        "id": "b8YtmoP1477h"
      },
      "execution_count": 24,
      "outputs": []
    },
    {
      "cell_type": "code",
      "source": [
        "\n"
      ],
      "metadata": {
        "id": "4p1_alZSAko-"
      },
      "execution_count": 19,
      "outputs": []
    },
    {
      "cell_type": "code",
      "source": [
        "df_full_train, df_test = train_test_split(df, test_size=0.2, random_state=4)\n",
        "df_train, df_val = train_test_split(df_full_train, test_size=0.25, random_state=4)\n",
        "df_full_train.shape, df_train.shape, df_val.shape, df_test.shape"
      ],
      "metadata": {
        "colab": {
          "base_uri": "https://localhost:8080/"
        },
        "id": "PGjBOyBhDL4Y",
        "outputId": "5e560ee3-93a6-4b41-92d3-7ca6a2887d68"
      },
      "execution_count": 25,
      "outputs": [
        {
          "output_type": "execute_result",
          "data": {
            "text/plain": [
              "((824, 9), (618, 9), (206, 9), (206, 9))"
            ]
          },
          "metadata": {},
          "execution_count": 25
        }
      ]
    },
    {
      "cell_type": "code",
      "source": [
        "y_fulltrain = df_full_train[\"csmpa\"].values\n",
        "y_train = df_train[\"csmpa\"].values\n",
        "y_val = df_val[\"csmpa\"].values\n",
        "y_test = df_test[\"csmpa\"].values"
      ],
      "metadata": {
        "id": "P7ab88gHFDUQ"
      },
      "execution_count": 26,
      "outputs": []
    },
    {
      "cell_type": "code",
      "source": [
        "del df_full_train[\"csmpa\"]\n",
        "del df_train[\"csmpa\"]\n",
        "del df_val[\"csmpa\"]\n",
        "del df_test[\"csmpa\"]"
      ],
      "metadata": {
        "id": "ZAVBxRHzFpwY"
      },
      "execution_count": 27,
      "outputs": []
    },
    {
      "cell_type": "code",
      "source": [
        "X_fulltrain = df_full_train.values\n",
        "X_train = df_train.values\n",
        "X_val = df_val.values\n",
        "X_test = df_test.values\n"
      ],
      "metadata": {
        "id": "bvYPqtK1HNx7"
      },
      "execution_count": 28,
      "outputs": []
    },
    {
      "cell_type": "code",
      "source": [
        "features = df_train.columns.to_list()\n",
        "dtrain = xgb.DMatrix(X_train, label=y_train, feature_names=features)\n",
        "dval = xgb.DMatrix(X_val, label=y_val, feature_names=features)\n"
      ],
      "metadata": {
        "id": "_Mj4hZozra9x"
      },
      "execution_count": 29,
      "outputs": []
    },
    {
      "cell_type": "code",
      "source": [
        "watchlist = [(dtrain, 'train'), (dval, 'val')]"
      ],
      "metadata": {
        "id": "x62XYpfttKcV"
      },
      "execution_count": 30,
      "outputs": []
    },
    {
      "cell_type": "code",
      "source": [
        "features = df_full_train.columns.to_list()\n",
        "dfulltrain = xgb.DMatrix(X_fulltrain, label=y_fulltrain, feature_names=features)\n",
        "dtest = xgb.DMatrix(X_test, label=y_test, feature_names=features)\n",
        "\n"
      ],
      "metadata": {
        "id": "N6EcsJnNXaF-"
      },
      "execution_count": 31,
      "outputs": []
    },
    {
      "cell_type": "code",
      "source": [
        "model_filename = 'xgb_model.pkl'\n",
        "\n",
        "with open(model_filename, 'rb') as model_file:\n",
        "    loaded_model = pickle.load(model_file)\n"
      ],
      "metadata": {
        "id": "BTIJ3tiua6W6"
      },
      "execution_count": 32,
      "outputs": []
    },
    {
      "cell_type": "code",
      "source": [
        "y_test_pred = loaded_model.predict(dtest)"
      ],
      "metadata": {
        "id": "rwBQBim0a_Q6"
      },
      "execution_count": 33,
      "outputs": []
    },
    {
      "cell_type": "code",
      "source": [
        "error = mean_squared_error(y_test, y_test_pred, squared=False)\n",
        "print(f\"The loaded model mean squared error is {np.round(error,2)}\")"
      ],
      "metadata": {
        "colab": {
          "base_uri": "https://localhost:8080/"
        },
        "id": "9TlajJZlcQ6l",
        "outputId": "6617865a-ab70-4f3d-8348-eed2e001b03a"
      },
      "execution_count": 34,
      "outputs": [
        {
          "output_type": "stream",
          "name": "stdout",
          "text": [
            "The loaded model mean squared error is 4.44\n"
          ]
        }
      ]
    }
  ]
}