{
  "nbformat": 4,
  "nbformat_minor": 0,
  "metadata": {
    "colab": {
      "provenance": []
    },
    "kernelspec": {
      "name": "python3",
      "display_name": "Python 3"
    },
    "language_info": {
      "name": "python"
    }
  },
  "cells": [
    {
      "cell_type": "code",
      "execution_count": 1,
      "metadata": {
        "id": "3FyRwtydVXSt"
      },
      "outputs": [],
      "source": [
        "import requests\n",
        "import numpy as np\n",
        "import pandas as pd\n",
        "from io import StringIO\n",
        "\n",
        "from sklearn.model_selection import train_test_split\n",
        "from sklearn.metrics import mean_squared_error\n",
        "\n",
        "import pickle\n",
        "import xgboost as xgb"
      ]
    },
    {
      "cell_type": "code",
      "source": [
        "url = \"https://github.com/AndresLDF/ML-Zoomcamp-Midterm-Project/raw/main/DataSet/Concrete_Data_Yeh.csv\""
      ],
      "metadata": {
        "id": "-7RpJarAVhQN"
      },
      "execution_count": 2,
      "outputs": []
    },
    {
      "cell_type": "code",
      "source": [
        "response = requests.get(url)"
      ],
      "metadata": {
        "id": "xpmG3SiN3rtK"
      },
      "execution_count": 3,
      "outputs": []
    },
    {
      "cell_type": "code",
      "source": [
        "if response.status_code==200:\n",
        "  file = StringIO(response.text)\n",
        "  df = pd.read_csv(file)\n"
      ],
      "metadata": {
        "id": "x3wcgdSx34_V"
      },
      "execution_count": 4,
      "outputs": []
    },
    {
      "cell_type": "code",
      "source": [
        "#Set all the columns labels to lower case\n",
        "df.columns = df.columns.str.lower()"
      ],
      "metadata": {
        "id": "b8YtmoP1477h"
      },
      "execution_count": 5,
      "outputs": []
    },
    {
      "cell_type": "code",
      "source": [
        "df.iloc[15]"
      ],
      "metadata": {
        "colab": {
          "base_uri": "https://localhost:8080/"
        },
        "id": "eF3msPoYGmE9",
        "outputId": "19c00116-061c-4988-f5f0-3f4268a4e4dc"
      },
      "execution_count": 16,
      "outputs": [
        {
          "output_type": "execute_result",
          "data": {
            "text/plain": [
              "cement              380.00\n",
              "slag                  0.00\n",
              "flyash                0.00\n",
              "water               228.00\n",
              "superplasticizer      0.00\n",
              "coarseaggregate     932.00\n",
              "fineaggregate       670.00\n",
              "age                  90.00\n",
              "csmpa                52.91\n",
              "Name: 15, dtype: float64"
            ]
          },
          "metadata": {},
          "execution_count": 16
        }
      ]
    },
    {
      "cell_type": "code",
      "source": [
        "df_full_train, df_test = train_test_split(df, test_size=0.2, random_state=4)\n",
        "df_train, df_val = train_test_split(df_full_train, test_size=0.25, random_state=4)\n",
        "df_full_train.shape, df_train.shape, df_val.shape, df_test.shape"
      ],
      "metadata": {
        "colab": {
          "base_uri": "https://localhost:8080/"
        },
        "id": "PGjBOyBhDL4Y",
        "outputId": "7b8b7798-1a92-4931-df9e-29830b78b149"
      },
      "execution_count": 6,
      "outputs": [
        {
          "output_type": "execute_result",
          "data": {
            "text/plain": [
              "((824, 9), (618, 9), (206, 9), (206, 9))"
            ]
          },
          "metadata": {},
          "execution_count": 6
        }
      ]
    },
    {
      "cell_type": "code",
      "source": [
        "y_fulltrain = df_full_train[\"csmpa\"].values\n",
        "y_train = df_train[\"csmpa\"].values\n",
        "y_val = df_val[\"csmpa\"].values\n",
        "y_test = df_test[\"csmpa\"].values"
      ],
      "metadata": {
        "id": "P7ab88gHFDUQ"
      },
      "execution_count": 7,
      "outputs": []
    },
    {
      "cell_type": "code",
      "source": [
        "del df_full_train[\"csmpa\"]\n",
        "del df_train[\"csmpa\"]\n",
        "del df_val[\"csmpa\"]\n",
        "del df_test[\"csmpa\"]"
      ],
      "metadata": {
        "id": "ZAVBxRHzFpwY"
      },
      "execution_count": 8,
      "outputs": []
    },
    {
      "cell_type": "code",
      "source": [
        "X_fulltrain = df_full_train.values\n",
        "X_train = df_train.values\n",
        "X_val = df_val.values\n",
        "X_test = df_test.values\n"
      ],
      "metadata": {
        "id": "bvYPqtK1HNx7"
      },
      "execution_count": 9,
      "outputs": []
    },
    {
      "cell_type": "code",
      "source": [
        "features = df_train.columns.to_list()\n",
        "dtrain = xgb.DMatrix(X_train, label=y_train, feature_names=features)\n",
        "dval = xgb.DMatrix(X_val, label=y_val, feature_names=features)\n"
      ],
      "metadata": {
        "id": "_Mj4hZozra9x"
      },
      "execution_count": 10,
      "outputs": []
    },
    {
      "cell_type": "markdown",
      "source": [],
      "metadata": {
        "id": "uCwWbjKvgvgL"
      }
    },
    {
      "cell_type": "code",
      "source": [
        "watchlist = [(dtrain, 'train'), (dval, 'val')]"
      ],
      "metadata": {
        "id": "x62XYpfttKcV"
      },
      "execution_count": 11,
      "outputs": []
    },
    {
      "cell_type": "code",
      "source": [
        "features = df_full_train.columns.to_list()\n",
        "dfulltrain = xgb.DMatrix(X_fulltrain, label=y_fulltrain, feature_names=features)\n",
        "dtest = xgb.DMatrix(X_test, label=y_test, feature_names=features)\n",
        "\n",
        "watchlist = [(dfulltrain, 'fulltrain'), (dtest, 'test')]\n",
        "\n",
        "depth = 9\n",
        "child_weight = 10\n",
        "\n",
        "xgb_params = {\n",
        "        'eta': 0.05,\n",
        "        'max_depth': depth,\n",
        "        'min_child_weight': child_weight,\n",
        "\n",
        "        'objective': 'reg:squarederror',\n",
        "        'eval_metric': 'rmse',\n",
        "        'nthread': 8,\n",
        "\n",
        "        'seed': 1,\n",
        "        'verbosity': 0,\n",
        "        }\n",
        "evals_result = {}\n",
        "model = xgb.train(xgb_params, dfulltrain, num_boost_round=200,\n",
        "                      verbose_eval=0,\n",
        "                      evals=watchlist,\n",
        "                      evals_result=evals_result)\n",
        "test_rmse = evals_result[\"test\"][\"rmse\"][-1]"
      ],
      "metadata": {
        "id": "N6EcsJnNXaF-"
      },
      "execution_count": 12,
      "outputs": []
    },
    {
      "cell_type": "code",
      "source": [
        "\n",
        "# Specify the filename to save the model parameters\n",
        "model_filename = 'xgb_model.pkl'\n",
        "\n",
        "# Save the model using pickle\n",
        "with open(model_filename, 'wb') as model_file:\n",
        "    pickle.dump(model, model_file)"
      ],
      "metadata": {
        "id": "aIPzZmSfanCy"
      },
      "execution_count": 14,
      "outputs": []
    }
  ]
}